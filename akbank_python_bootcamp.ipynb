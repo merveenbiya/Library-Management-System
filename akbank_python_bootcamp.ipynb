{
  "nbformat": 4,
  "nbformat_minor": 0,
  "metadata": {
    "colab": {
      "provenance": [],
      "collapsed_sections": [
        "ZIbCA-5802j5",
        "yBEN8kIq06-x",
        "SPXRVQlR1PYD",
        "64dGzu0j1bNS",
        "osXaYeEp1zQy",
        "SGGcLQZb14YV"
      ],
      "authorship_tag": "ABX9TyO6OuK7PF711VSenR3mkBu3",
      "include_colab_link": true
    },
    "kernelspec": {
      "name": "python3",
      "display_name": "Python 3"
    },
    "language_info": {
      "name": "python"
    }
  },
  "cells": [
    {
      "cell_type": "markdown",
      "metadata": {
        "id": "view-in-github",
        "colab_type": "text"
      },
      "source": [
        "<a href=\"https://colab.research.google.com/github/merveenbiya/lms/blob/main/akbank_python_bootcamp.ipynb\" target=\"_parent\"><img src=\"https://colab.research.google.com/assets/colab-badge.svg\" alt=\"Open In Colab\"/></a>"
      ]
    },
    {
      "cell_type": "markdown",
      "source": [
        " **Merve Enbiyaoğlu**"
      ],
      "metadata": {
        "id": "dQWeW1M3xXlS"
      }
    },
    {
      "cell_type": "markdown",
      "source": [
        "Library Management System"
      ],
      "metadata": {
        "id": "wPM8mLJYxSlD"
      }
    },
    {
      "cell_type": "markdown",
      "source": [
        "# Database (library)"
      ],
      "metadata": {
        "id": "ZIbCA-5802j5"
      }
    },
    {
      "cell_type": "code",
      "source": [
        "class Library:\n",
        "    def __init__(self, db='books.txt'):\n",
        "        self.db = db\n",
        "        self.file = open(self.db, 'a+')\n",
        "\n",
        "    def __del__(self):\n",
        "        self.file.close()"
      ],
      "metadata": {
        "id": "DDPEreWX0zke"
      },
      "execution_count": null,
      "outputs": []
    },
    {
      "cell_type": "markdown",
      "source": [
        "# *List Book*"
      ],
      "metadata": {
        "id": "yBEN8kIq06-x"
      }
    },
    {
      "cell_type": "code",
      "source": [
        "\n",
        "    def list_books(self):\n",
        "        self.file.seek(0)\n",
        "        book_lines = self.file.read().splitlines()\n",
        "        for line in book_lines:\n",
        "            book_info = line.split(',')\n",
        "            print(f\"Book: {book_info[0]}, Author: {book_info[1]}\")\n"
      ],
      "metadata": {
        "id": "rSFD87H607Ou"
      },
      "execution_count": null,
      "outputs": []
    },
    {
      "cell_type": "markdown",
      "source": [
        "# Add Book"
      ],
      "metadata": {
        "id": "SPXRVQlR1PYD"
      }
    },
    {
      "cell_type": "code",
      "source": [
        "def add_book(self):\n",
        "        title = input(\"Enter the book title: \")\n",
        "        author = input(\"Enter the author: \")\n",
        "        release_year = input(\"Enter the release year: \")\n",
        "        num_pages = input(\"Enter the number of pages: \")\n",
        "\n",
        "        book_info = f\"{title},{author},{release_year},{num_pages}\\n\"\n",
        "        self.file.write(book_info)\n",
        "        print(f\"Book '{title}' added successfully!\")"
      ],
      "metadata": {
        "id": "IOBgSuuE1T6s"
      },
      "execution_count": null,
      "outputs": []
    },
    {
      "cell_type": "markdown",
      "source": [
        "# Remove Book"
      ],
      "metadata": {
        "id": "64dGzu0j1bNS"
      }
    },
    {
      "cell_type": "code",
      "source": [
        "def remove_book(self):\n",
        "        title_remove = input(\"Enter the book title to remove: \")\n",
        "\n",
        "        self.file.seek(0)\n",
        "        book_lines = self.file.read().splitlines()\n",
        "\n",
        "        new_book_lines = [line for line in book_lines if title_remove not in line]\n",
        "\n",
        "        self.file.truncate(0)\n",
        "        self.file.seek(0)\n",
        "\n",
        "        for line in new_book_lines:\n",
        "            self.file.write(line + '\\n')\n",
        "\n",
        "        print(f\"Book '{title_remove}' removed successfully!\")"
      ],
      "metadata": {
        "id": "hiIq77Hg1WRq"
      },
      "execution_count": null,
      "outputs": []
    },
    {
      "cell_type": "markdown",
      "source": [
        "# lib with Library class"
      ],
      "metadata": {
        "id": "osXaYeEp1zQy"
      }
    },
    {
      "cell_type": "code",
      "source": [
        "lib = Library()"
      ],
      "metadata": {
        "id": "xVPQ5d0k1mWO"
      },
      "execution_count": null,
      "outputs": []
    },
    {
      "cell_type": "markdown",
      "source": [
        "# Menu"
      ],
      "metadata": {
        "id": "SGGcLQZb14YV"
      }
    },
    {
      "cell_type": "code",
      "source": [
        "while True:\n",
        "    print(\"\\n*** MENU ***\")\n",
        "    print(\"1) List Books\")\n",
        "    print(\"2) Add Book\")\n",
        "    print(\"3) Remove Book\")\n",
        "    print(\"q) Exit\")\n",
        "\n",
        "    choice = input(\"Enter your choice (1-4): \")\n",
        "\n",
        "    if choice == '1':\n",
        "        lib.list_books()\n",
        "    elif choice == '2':\n",
        "        lib.add_book()\n",
        "    elif choice == '3':\n",
        "        lib.remove_book()\n",
        "    elif choice == 'q':\n",
        "        break\n",
        "    else:\n",
        "        print(\"Please enter a number between 1 and 3 or q.\")"
      ],
      "metadata": {
        "id": "oUvaEgjA17fB"
      },
      "execution_count": null,
      "outputs": []
    },
    {
      "cell_type": "markdown",
      "source": [
        "# Total"
      ],
      "metadata": {
        "id": "ObZ2PF202MvF"
      }
    },
    {
      "cell_type": "code",
      "execution_count": 12,
      "metadata": {
        "id": "cukBod-UwPAn",
        "colab": {
          "base_uri": "https://localhost:8080/"
        },
        "outputId": "2d7b8039-e555-4c19-e9cd-dfabf87ee8c5"
      },
      "outputs": [
        {
          "name": "stdout",
          "output_type": "stream",
          "text": [
            "\n",
            "*** MENU ***\n",
            "1) List Books\n",
            "2) Add Book\n",
            "3) Remove Book\n",
            "q) Exit\n",
            "Enter your choice (1-4): 1\n",
            "\n",
            "*** MENU ***\n",
            "1) List Books\n",
            "2) Add Book\n",
            "3) Remove Book\n",
            "q) Exit\n",
            "Enter your choice (1-4): 2\n",
            "Enter the book title: 1984\n",
            "Enter the author: George Orwell\n",
            "Enter the release year: 2008\n",
            "Enter the number of pages: 284\n",
            "Book '1984' added successfully!\n",
            "\n",
            "*** MENU ***\n",
            "1) List Books\n",
            "2) Add Book\n",
            "3) Remove Book\n",
            "q) Exit\n",
            "Enter your choice (1-4): 1\n",
            "Book: 1984, Author: George Orwell\n",
            "\n",
            "*** MENU ***\n",
            "1) List Books\n",
            "2) Add Book\n",
            "3) Remove Book\n",
            "q) Exit\n",
            "Enter your choice (1-4): 3\n",
            "Enter the book title to remove: 1984\n",
            "Book '1984' removed successfully!\n",
            "\n",
            "*** MENU ***\n",
            "1) List Books\n",
            "2) Add Book\n",
            "3) Remove Book\n",
            "q) Exit\n",
            "Enter your choice (1-4): 1\n",
            "\n",
            "*** MENU ***\n",
            "1) List Books\n",
            "2) Add Book\n",
            "3) Remove Book\n",
            "q) Exit\n",
            "Enter your choice (1-4): q\n"
          ]
        }
      ],
      "source": [
        "class Library:\n",
        "    def __init__(self, db='books.txt'):\n",
        "        self.db = db\n",
        "        self.file = open(self.db, 'a+')\n",
        "\n",
        "    def __del__(self):\n",
        "        self.file.close()\n",
        "\n",
        "    def list_books(self):\n",
        "        self.file.seek(0)\n",
        "        book_lines = self.file.read().splitlines()\n",
        "        for line in book_lines:\n",
        "            book_info = line.split(',')\n",
        "            print(f\"Book: {book_info[0]}, Author: {book_info[1]}\")\n",
        "\n",
        "    def add_book(self):\n",
        "        title = input(\"Enter the book title: \")\n",
        "        author = input(\"Enter the author: \")\n",
        "        release_year = input(\"Enter the release year: \")\n",
        "        num_pages = input(\"Enter the number of pages: \")\n",
        "\n",
        "        book_info = f\"{title},{author},{release_year},{num_pages}\\n\"\n",
        "        self.file.write(book_info)\n",
        "        print(f\"Book '{title}' added successfully!\")\n",
        "\n",
        "    def remove_book(self):\n",
        "        title_remove = input(\"Enter the book title to remove: \")\n",
        "\n",
        "        self.file.seek(0)\n",
        "        book_lines = self.file.read().splitlines()\n",
        "\n",
        "        new_book_lines = [line for line in book_lines if title_remove not in line]\n",
        "\n",
        "        self.file.truncate(0)\n",
        "        self.file.seek(0)\n",
        "\n",
        "        for line in new_book_lines:\n",
        "            self.file.write(line + '\\n')\n",
        "\n",
        "        print(f\"Book '{title_remove}' removed successfully!\")\n",
        "\n",
        "lib = Library()\n",
        "\n",
        "while True:\n",
        "    print(\"\\n*** MENU ***\")\n",
        "    print(\"1) List Books\")\n",
        "    print(\"2) Add Book\")\n",
        "    print(\"3) Remove Book\")\n",
        "    print(\"q) Exit\")\n",
        "\n",
        "    choice = input(\"Enter your choice (1-4): \")\n",
        "\n",
        "    if choice == '1':\n",
        "        lib.list_books()\n",
        "    elif choice == '2':\n",
        "        lib.add_book()\n",
        "    elif choice == '3':\n",
        "        lib.remove_book()\n",
        "    elif choice == 'q':\n",
        "        break\n",
        "    else:\n",
        "        print(\"Please enter a number between 1 and 3 or q.\")\n"
      ]
    }
  ]
}